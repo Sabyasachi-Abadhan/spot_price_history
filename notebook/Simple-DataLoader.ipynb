{
 "cells": [
  {
   "cell_type": "markdown",
   "metadata": {},
   "source": [
    "#This ipython notebook just loads the spot pricing dataset\n",
    "\n",
    "the spot pricing dataset is assumed to be in json in the data/ directory.  "
   ]
  },
  {
   "cell_type": "markdown",
   "metadata": {},
   "source": [
    "##step 1... import all required libraries"
   ]
  },
  {
   "cell_type": "code",
   "execution_count": 58,
   "metadata": {
    "collapsed": false
   },
   "outputs": [
    {
     "name": "stdout",
     "output_type": "stream",
     "text": [
      "Populating the interactive namespace from numpy and matplotlib\n"
     ]
    }
   ],
   "source": [
    "import pandas as pd\n",
    "import matplotlib.pyplot as plt\n",
    "pd.set_option('display.mpl_style', 'default') # Make the graphs a bit prettier\n",
    "%pylab inline\n",
    "%matplotlib inline"
   ]
  },
  {
   "cell_type": "code",
   "execution_count": 59,
   "metadata": {
    "collapsed": false
   },
   "outputs": [
    {
     "data": {
      "text/html": [
       "<div style=\"max-height:1000px;max-width:1500px;overflow:auto;\">\n",
       "<table border=\"1\" class=\"dataframe\">\n",
       "  <thead>\n",
       "    <tr style=\"text-align: right;\">\n",
       "      <th></th>\n",
       "      <th>AvailabilityZone</th>\n",
       "      <th>InstanceType</th>\n",
       "      <th>ProductDescription</th>\n",
       "      <th>SpotPrice</th>\n",
       "    </tr>\n",
       "    <tr>\n",
       "      <th>Timestamp</th>\n",
       "      <th></th>\n",
       "      <th></th>\n",
       "      <th></th>\n",
       "      <th></th>\n",
       "    </tr>\n",
       "  </thead>\n",
       "  <tbody>\n",
       "    <tr>\n",
       "      <th>2015-06-02T10:40:18.000Z</th>\n",
       "      <td>us-east-1e</td>\n",
       "      <td>m1.xlarge</td>\n",
       "      <td>Linux/UNIX (Amazon VPC)</td>\n",
       "      <td>0.0334</td>\n",
       "    </tr>\n",
       "    <tr>\n",
       "      <th>2015-06-02T10:40:18.000Z</th>\n",
       "      <td>us-east-1b</td>\n",
       "      <td>m1.xlarge</td>\n",
       "      <td>Linux/UNIX (Amazon VPC)</td>\n",
       "      <td>0.0372</td>\n",
       "    </tr>\n",
       "    <tr>\n",
       "      <th>2015-06-02T10:40:18.000Z</th>\n",
       "      <td>us-east-1a</td>\n",
       "      <td>m1.xlarge</td>\n",
       "      <td>Linux/UNIX (Amazon VPC)</td>\n",
       "      <td>0.0394</td>\n",
       "    </tr>\n",
       "    <tr>\n",
       "      <th>2015-06-02T10:32:12.000Z</th>\n",
       "      <td>us-east-1e</td>\n",
       "      <td>m1.xlarge</td>\n",
       "      <td>Linux/UNIX (Amazon VPC)</td>\n",
       "      <td>0.0332</td>\n",
       "    </tr>\n",
       "    <tr>\n",
       "      <th>2015-06-02T10:32:12.000Z</th>\n",
       "      <td>us-east-1b</td>\n",
       "      <td>m1.xlarge</td>\n",
       "      <td>Linux/UNIX (Amazon VPC)</td>\n",
       "      <td>0.0371</td>\n",
       "    </tr>\n",
       "  </tbody>\n",
       "</table>\n",
       "</div>"
      ],
      "text/plain": [
       "                         AvailabilityZone InstanceType  \\\n",
       "Timestamp                                                \n",
       "2015-06-02T10:40:18.000Z       us-east-1e    m1.xlarge   \n",
       "2015-06-02T10:40:18.000Z       us-east-1b    m1.xlarge   \n",
       "2015-06-02T10:40:18.000Z       us-east-1a    m1.xlarge   \n",
       "2015-06-02T10:32:12.000Z       us-east-1e    m1.xlarge   \n",
       "2015-06-02T10:32:12.000Z       us-east-1b    m1.xlarge   \n",
       "\n",
       "                               ProductDescription  SpotPrice  \n",
       "Timestamp                                                     \n",
       "2015-06-02T10:40:18.000Z  Linux/UNIX (Amazon VPC)     0.0334  \n",
       "2015-06-02T10:40:18.000Z  Linux/UNIX (Amazon VPC)     0.0372  \n",
       "2015-06-02T10:40:18.000Z  Linux/UNIX (Amazon VPC)     0.0394  \n",
       "2015-06-02T10:32:12.000Z  Linux/UNIX (Amazon VPC)     0.0332  \n",
       "2015-06-02T10:32:12.000Z  Linux/UNIX (Amazon VPC)     0.0371  "
      ]
     },
     "execution_count": 59,
     "metadata": {},
     "output_type": "execute_result"
    }
   ],
   "source": [
    "df = pd.read_json('../data/m1.xlarge.json')\n",
    "df = df.set_index('Timestamp')\n",
    "df[:5]\n"
   ]
  },
  {
   "cell_type": "code",
   "execution_count": 28,
   "metadata": {
    "collapsed": false
   },
   "outputs": [
    {
     "data": {
      "text/html": [
       "<div style=\"max-height:1000px;max-width:1500px;overflow:auto;\">\n",
       "<table border=\"1\" class=\"dataframe\">\n",
       "  <thead>\n",
       "    <tr style=\"text-align: right;\">\n",
       "      <th></th>\n",
       "      <th>SpotPrice</th>\n",
       "    </tr>\n",
       "    <tr>\n",
       "      <th>AvailabilityZone</th>\n",
       "      <th></th>\n",
       "    </tr>\n",
       "  </thead>\n",
       "  <tbody>\n",
       "    <tr>\n",
       "      <th>us-east-1a</th>\n",
       "      <td>0.000996</td>\n",
       "    </tr>\n",
       "    <tr>\n",
       "      <th>us-east-1b</th>\n",
       "      <td>0.000001</td>\n",
       "    </tr>\n",
       "    <tr>\n",
       "      <th>us-east-1c</th>\n",
       "      <td>0.000000</td>\n",
       "    </tr>\n",
       "    <tr>\n",
       "      <th>us-east-1d</th>\n",
       "      <td>0.000046</td>\n",
       "    </tr>\n",
       "    <tr>\n",
       "      <th>us-east-1e</th>\n",
       "      <td>0.000003</td>\n",
       "    </tr>\n",
       "  </tbody>\n",
       "</table>\n",
       "</div>"
      ],
      "text/plain": [
       "                  SpotPrice\n",
       "AvailabilityZone           \n",
       "us-east-1a         0.000996\n",
       "us-east-1b         0.000001\n",
       "us-east-1c         0.000000\n",
       "us-east-1d         0.000046\n",
       "us-east-1e         0.000003"
      ]
     },
     "execution_count": 28,
     "metadata": {},
     "output_type": "execute_result"
    }
   ],
   "source": [
    "df.groupby('AvailabilityZone').var()"
   ]
  },
  {
   "cell_type": "code",
   "execution_count": 88,
   "metadata": {
    "collapsed": false
   },
   "outputs": [
    {
     "data": {
      "text/html": [
       "<div style=\"max-height:1000px;max-width:1500px;overflow:auto;\">\n",
       "<table border=\"1\" class=\"dataframe\">\n",
       "  <thead>\n",
       "    <tr style=\"text-align: right;\">\n",
       "      <th></th>\n",
       "      <th>AvailabilityZone</th>\n",
       "      <th>InstanceType</th>\n",
       "      <th>ProductDescription</th>\n",
       "      <th>SpotPrice</th>\n",
       "    </tr>\n",
       "    <tr>\n",
       "      <th>Timestamp</th>\n",
       "      <th></th>\n",
       "      <th></th>\n",
       "      <th></th>\n",
       "      <th></th>\n",
       "    </tr>\n",
       "  </thead>\n",
       "  <tbody>\n",
       "    <tr>\n",
       "      <th>2015-06-02T10:40:18.000Z</th>\n",
       "      <td>us-east-1e</td>\n",
       "      <td>m1.xlarge</td>\n",
       "      <td>Linux/UNIX (Amazon VPC)</td>\n",
       "      <td>0.0334</td>\n",
       "    </tr>\n",
       "    <tr>\n",
       "      <th>2015-06-02T10:32:12.000Z</th>\n",
       "      <td>us-east-1e</td>\n",
       "      <td>m1.xlarge</td>\n",
       "      <td>Linux/UNIX (Amazon VPC)</td>\n",
       "      <td>0.0332</td>\n",
       "    </tr>\n",
       "    <tr>\n",
       "      <th>2015-06-02T10:15:46.000Z</th>\n",
       "      <td>us-east-1e</td>\n",
       "      <td>m1.xlarge</td>\n",
       "      <td>Linux/UNIX (Amazon VPC)</td>\n",
       "      <td>0.0333</td>\n",
       "    </tr>\n",
       "    <tr>\n",
       "      <th>2015-06-02T10:07:14.000Z</th>\n",
       "      <td>us-east-1e</td>\n",
       "      <td>m1.xlarge</td>\n",
       "      <td>Linux/UNIX (Amazon VPC)</td>\n",
       "      <td>0.0332</td>\n",
       "    </tr>\n",
       "    <tr>\n",
       "      <th>2015-06-02T09:58:52.000Z</th>\n",
       "      <td>us-east-1e</td>\n",
       "      <td>m1.xlarge</td>\n",
       "      <td>Linux/UNIX (Amazon VPC)</td>\n",
       "      <td>0.0330</td>\n",
       "    </tr>\n",
       "  </tbody>\n",
       "</table>\n",
       "</div>"
      ],
      "text/plain": [
       "                         AvailabilityZone InstanceType  \\\n",
       "Timestamp                                                \n",
       "2015-06-02T10:40:18.000Z       us-east-1e    m1.xlarge   \n",
       "2015-06-02T10:32:12.000Z       us-east-1e    m1.xlarge   \n",
       "2015-06-02T10:15:46.000Z       us-east-1e    m1.xlarge   \n",
       "2015-06-02T10:07:14.000Z       us-east-1e    m1.xlarge   \n",
       "2015-06-02T09:58:52.000Z       us-east-1e    m1.xlarge   \n",
       "\n",
       "                               ProductDescription  SpotPrice  \n",
       "Timestamp                                                     \n",
       "2015-06-02T10:40:18.000Z  Linux/UNIX (Amazon VPC)     0.0334  \n",
       "2015-06-02T10:32:12.000Z  Linux/UNIX (Amazon VPC)     0.0332  \n",
       "2015-06-02T10:15:46.000Z  Linux/UNIX (Amazon VPC)     0.0333  \n",
       "2015-06-02T10:07:14.000Z  Linux/UNIX (Amazon VPC)     0.0332  \n",
       "2015-06-02T09:58:52.000Z  Linux/UNIX (Amazon VPC)     0.0330  "
      ]
     },
     "execution_count": 88,
     "metadata": {},
     "output_type": "execute_result"
    }
   ],
   "source": [
    "for key, grp in df.groupby([\"AvailabilityZone\"], as_index=False):\n",
    "    x = grp\n",
    "    \n",
    "x[0:5]\n"
   ]
  },
  {
   "cell_type": "code",
   "execution_count": 85,
   "metadata": {
    "collapsed": false
   },
   "outputs": [
    {
     "data": {
      "image/png": "[encoded data removed]",
      "text/plain": [
       "<matplotlib.figure.Figure at 0x1178841d0>"
      ]
     },
     "metadata": {},
     "output_type": "display_data"
    }
   ],
   "source": [
    "for key, grp in df.groupby(['AvailabilityZone'], as_index=False):\n",
    "    plt.plot(grp['SpotPrice'], label=key)\n",
    "\n",
    "plt.legend()\n",
    "plt.title('Spot Pricing')\n",
    "plt.show()\n"
   ]
  },
  {
   "cell_type": "code",
   "execution_count": 66,
   "metadata": {
    "collapsed": false
   },
   "outputs": [
    {
     "data": {
      "text/plain": [
       "<matplotlib.axes._subplots.AxesSubplot at 0x1169ce050>"
      ]
     },
     "execution_count": 66,
     "metadata": {},
     "output_type": "execute_result"
    },
    {
     "data": {
      "image/png": "[encoded data removed]",
      "text/plain": [
       "<matplotlib.figure.Figure at 0x116d1c710>"
      ]
     },
     "metadata": {},
     "output_type": "display_data"
    }
   ],
   "source": [
    "df.groupby([\"AvailabilityZone\"]).var().plot(kind='bar', title='spot price variance')\n"
   ]
  }
 ],
 "metadata": {
  "kernelspec": {
   "display_name": "Python 2",
   "language": "python",
   "name": "python2"
  },
  "language_info": {
   "codemirror_mode": {
    "name": "ipython",
    "version": 2
   },
   "file_extension": ".py",
   "mimetype": "text/x-python",
   "name": "python",
   "nbconvert_exporter": "python",
   "pygments_lexer": "ipython2",
   "version": "2.7.8"
  }
 },
 "nbformat": 4,
 "nbformat_minor": 0
}
